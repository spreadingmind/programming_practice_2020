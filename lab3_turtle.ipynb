{
 "cells": [
  {
   "cell_type": "code",
   "execution_count": 37,
   "metadata": {},
   "outputs": [
    {
     "name": "stdout",
     "output_type": "stream",
     "text": [
      "The pycodestyle_magic extension is already loaded. To reload it, use:\n",
      "  %reload_ext pycodestyle_magic\n"
     ]
    }
   ],
   "source": [
    "%load_ext pycodestyle_magic\n",
    "%pycodestyle_on\n",
    "\n",
    "import tkinter\n",
    "import turtle as t\n",
    "import math\n",
    "from random import *\n"
   ]
  },
  {
   "cell_type": "code",
   "execution_count": 40,
   "metadata": {},
   "outputs": [],
   "source": [
    "# ex 1: random moves\n",
    "\n",
    "directions = ['l', 'r', 'f', 'b']\n",
    "\n",
    "\n",
    "def move_random():\n",
    "    direction = choice(directions)  # choose random direction\n",
    "    distance = randint(1, 30)  # generate random distance from 1 to 30\n",
    "    angle = randint(1, 180)  # generate random angle from 1 to 180\n",
    "    if direction == 'l':\n",
    "        t.left(angle)\n",
    "    if direction == 'r':\n",
    "        t.right(angle)\n",
    "    if direction == 'f':\n",
    "        t.forward(distance)\n",
    "    else:\n",
    "        t.back(distance)\n",
    "\n",
    "\n",
    "t.shape('turtle')\n",
    "\n",
    "# make 100 random moves\n",
    "for i in range(100):\n",
    "    move_random()\n",
    "\n",
    "\n",
    "t.done()"
   ]
  },
  {
   "cell_type": "code",
   "execution_count": 43,
   "metadata": {},
   "outputs": [],
   "source": [
    "# postcode digit functions\n",
    "\n",
    "# wrapper for post digit func\n",
    "def draw_post_digit(num_func):\n",
    "    x, y = t.xcor(), t.ycor()\n",
    "    t.penup()\n",
    "    num_func(x, y)\n",
    "    t.penup()\n",
    "    t.forward(20)\n",
    "\n",
    "\n",
    "def one(x, y):\n",
    "    t.goto(x, y + 30)\n",
    "    t.pendown()\n",
    "    t.goto(x + 30, y + 60)\n",
    "    t.goto(x + 30, y)\n",
    "    t.penup()\n",
    "    t.goto(x + 30, y)\n",
    "\n",
    "\n",
    "def four(x, y):\n",
    "    t.goto(x, y + 60)\n",
    "    t.pendown()\n",
    "    t.goto(x, y + 30)\n",
    "    t.goto(x + 30, y + 30)\n",
    "    t.goto(x + 30, y)\n",
    "    t.goto(x + 30, y + 30)\n",
    "    t.goto(x + 30, y + 60)\n",
    "    t.goto(x + 30, y)\n",
    "\n",
    "\n",
    "def zero(x, y):\n",
    "    t.pendown()\n",
    "    t.goto(x + 30, y)\n",
    "    t.goto(x + 30, y + 60)\n",
    "    t.goto(x, y + 60)\n",
    "    t.goto(x, y)\n",
    "    t.goto(x + 30, y)\n",
    "\n",
    "\n",
    "def seven(x, y):\n",
    "    t.pendown()\n",
    "    t.goto(x, y + 30)\n",
    "    t.goto(x + 30, y + 60)\n",
    "    t.goto(x, y + 60)\n",
    "    t.penup()\n",
    "    t.goto(x + 30, y)"
   ]
  },
  {
   "cell_type": "code",
   "execution_count": 45,
   "metadata": {},
   "outputs": [],
   "source": [
    "# ex 2: postcode\n",
    "\n",
    "\n",
    "postcode = '1 4 1 7 0 0'\n",
    "\n",
    "# digit to digit func dict\n",
    "digit_to_func = {\n",
    "    0: zero, 1: one, 2: None, 3: None, 4: four,\n",
    "    5: None, 6: None, 7: seven, 8: None, 9: None\n",
    "    }\n",
    "\n",
    "t.shape('turtle')\n",
    "\n",
    "# generated list of digit funcs to draw given postcode\n",
    "postcode = [\n",
    "    draw_post_digit(digit_to_func[digit])\n",
    "    for digit in (int(j) for j in postcode.split())\n",
    "    ]\n",
    "t.done()"
   ]
  },
  {
   "cell_type": "code",
   "execution_count": 47,
   "metadata": {},
   "outputs": [],
   "source": [
    "# ex 3: draw postcodes using digits \"font\" from file\n",
    "\n",
    "t.shape('turtle')\n",
    "\n",
    "with open('lab3_postcode_digits.txt') as file:\n",
    "    for line in file:\n",
    "        exec(line)\n",
    "t.done()"
   ]
  }
 ],
 "metadata": {
  "kernelspec": {
   "display_name": "Python 3",
   "language": "python",
   "name": "python3"
  },
  "language_info": {
   "codemirror_mode": {
    "name": "ipython",
    "version": 3
   },
   "file_extension": ".py",
   "mimetype": "text/x-python",
   "name": "python",
   "nbconvert_exporter": "python",
   "pygments_lexer": "ipython3",
   "version": "3.6.9"
  }
 },
 "nbformat": 4,
 "nbformat_minor": 4
}
