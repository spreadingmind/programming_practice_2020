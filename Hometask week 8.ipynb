{
 "cells": [
  {
   "cell_type": "code",
   "execution_count": 665,
   "metadata": {},
   "outputs": [],
   "source": [
    "import numpy as np\n",
    "import matplotlib.pyplot as plt\n",
    "from random import randint\n",
    "from time import time"
   ]
  },
  {
   "cell_type": "code",
   "execution_count": 745,
   "metadata": {},
   "outputs": [
    {
     "data": {
      "image/png": "[encoded data removed]",
      "text/plain": [
       "<Figure size 432x288 with 1 Axes>"
      ]
     },
     "metadata": {
      "needs_background": "light"
     },
     "output_type": "display_data"
    }
   ],
   "source": [
    "# 1 \n",
    "# create numpy matrix 100*2\n",
    "np_values = np.random.randint(1000,size=(100, 2))\n",
    "# create standard matrix 100*2\n",
    "values_std = [[randint(0, 1000), randint(0, 1000)] for i in range(100)]\n",
    "np_time = []\n",
    "std_time = []\n",
    "\n",
    "def f(x, y):\n",
    "    return 2*x**2 + 4*y\n",
    "\n",
    "def numpy_f(arr):\n",
    "    res = 2*arr.T[0]**2 + 4*arr.T[1]\n",
    "        \n",
    "def std_f(arr):\n",
    "    return [f(x, y) for (x, y) in arr]\n",
    "\n",
    "# time 100 iterations of numpy and standard func\n",
    "for i in range(100):\n",
    "    start = time()\n",
    "    numpy_f(np_values)\n",
    "    end = time()\n",
    "    np_time.append(end - start)\n",
    "    \n",
    "for i in range(100):\n",
    "    start = time()\n",
    "    numpy_f(np_values)\n",
    "    end = time()\n",
    "    std_time.append(end - start)\n",
    "\n",
    "# build exec time stats plot \n",
    "plt.plot(np_time)\n",
    "plt.plot(std_time)\n",
    "plt.show()\n"
   ]
  },
  {
   "cell_type": "code",
   "execution_count": 2,
   "metadata": {},
   "outputs": [
    {
     "name": "stdout",
     "output_type": "stream",
     "text": [
      "[ 3  5  7  9 11 13 15 17 19 21 23 25 27 29 31 33 35 37 39 41 43 45 47 49\n",
      " 51 53 55 57 59 61 63 65 67 69 71 73 75]\n",
      "[ 2 -1  4 -1  6 -1  8 -1 10 -1 12 -1 14 -1 16 -1 18 -1 20 -1 22 -1 24 -1\n",
      " 26 -1 28 -1 30 -1 32 -1 34 -1 36 -1 38 -1 40 -1 42 -1 44 -1 46 -1 48 -1\n",
      " 50 -1 52 -1 54 -1 56 -1 58 -1 60 -1 62 -1 64 -1 66 -1 68 -1 70 -1 72 -1\n",
      " 74 -1]\n"
     ]
    }
   ],
   "source": [
    "# 2\n",
    "\n",
    "# create array of ints from 2 to 75\n",
    "arr = np.arange(2, 76, 1)\n",
    "# get odd numbers\n",
    "odd = arr[arr % 2 == 1]\n",
    "print(odd)\n",
    "# change all odd numbers to -1\n",
    "arr_subst = np.where(arr % 2 == 0, arr, -1)\n",
    "print(arr_subst)"
   ]
  },
  {
   "cell_type": "code",
   "execution_count": 797,
   "metadata": {},
   "outputs": [
    {
     "name": "stdout",
     "output_type": "stream",
     "text": [
      "[2 3 4 6 6 7 8]\n",
      "[6 6 7 8]\n",
      "[3 4 6 6 7 8]\n"
     ]
    }
   ],
   "source": [
    "# 3\n",
    "\n",
    "base_arr = np.array([1, 2, 3, 4, 6, 6, 7, 8])\n",
    "arr2 = [1, 2, 3, 4]\n",
    "\n",
    "# delete by value\n",
    "arr1 = base_arr\n",
    "arr1 = np.delete(arr1, np.argwhere(arr1 == arr2[0]))\n",
    "print(arr1)\n",
    "\n",
    "# delete by values from another array\n",
    "arr1 = base_arr\n",
    "for e in arr2:\n",
    "    arr1 = np.delete(arr1, np.argwhere(arr1 == e))\n",
    "print(arr1)\n",
    "\n",
    "# delete by indexes\n",
    "arr1 = base_arr\n",
    "arr1 = np.delete(arr1, [0, 1])\n",
    "print(arr1)"
   ]
  },
  {
   "cell_type": "code",
   "execution_count": 799,
   "metadata": {},
   "outputs": [
    {
     "data": {
      "text/plain": [
       "array([[ 1,  3,  1,  1,  2],\n",
       "       [ 2,  0,  1,  2,  3],\n",
       "       [ 1,  0,  3,  3,  0],\n",
       "       [-1,  1,  2, -1,  3],\n",
       "       [ 2,  3,  3,  0,  1]])"
      ]
     },
     "execution_count": 799,
     "metadata": {},
     "output_type": "execute_result"
    }
   ],
   "source": [
    "# 4\n",
    "# create matrix of random numbers and size from 2 to 10\n",
    "s = np.random.randint(2, 11) \n",
    "\n",
    "# divide each element by max value\n",
    "matrix_rand_1 = np.random.randint(s, size=(s, s))\n",
    "max_value = matrix_rand_1.max()\n",
    "matrix_rand_1[matrix_rand_1] = matrix_rand_1 / max_value\n",
    "\n",
    "# substract row average value from each row \n",
    "matrix_rand_2 = np.random.randint(s, size=(s, s))\n",
    "mean_row_values = np.mean(matrix_rand_2, axis = 1)\n",
    "\n",
    "for i in range(s):\n",
    "    mean = mean_row_values[i]\n",
    "    matrix_rand_2[i, :] -= int(mean)\n",
    "\n",
    "# change max value to -1\n",
    "matrix_rand_3 = np.random.randint(s, size=(s, s))\n",
    "max_value = matrix_rand_3.max()\n",
    "matrix_rand_3[matrix_rand_3 == max_value] = -1\n"
   ]
  },
  {
   "cell_type": "code",
   "execution_count": 805,
   "metadata": {},
   "outputs": [
    {
     "name": "stdout",
     "output_type": "stream",
     "text": [
      "48.08528650789004\n"
     ]
    },
    {
     "data": {
      "text/plain": [
       "array([[99.27926339, 48.08528651, 56.64865525, 48.08528651, 48.08528651,\n",
       "        31.31891774, 69.64947102],\n",
       "       [58.36260382, 44.77366844, 10.9811834 , 48.08528651, 41.07713508,\n",
       "        22.11544783, 32.7156031 ],\n",
       "       [17.20171642, 69.45485851, 74.61427577, 24.71505169, 48.08528651,\n",
       "        36.94607963, 95.60486445],\n",
       "       [65.72820119, 96.90414497, 27.49611872, 59.57286146, 84.03171289,\n",
       "        25.81135421, 41.11288028],\n",
       "       [38.54572734, 19.73269335,  4.30333214, 63.58577221, 26.32931511,\n",
       "        79.49160226, 83.94885081],\n",
       "       [57.29081983, 78.98693384, 18.95725865, 13.23884131, 73.37122879,\n",
       "        41.94130379,  4.13433416],\n",
       "       [32.2146029 , 80.20270447, 56.71870762, 55.22340886, 14.42057671,\n",
       "        41.88621429, 82.26744492]])"
      ]
     },
     "execution_count": 805,
     "metadata": {},
     "output_type": "execute_result"
    }
   ],
   "source": [
    "# 5\n",
    "# create matrix of random float numbers and size from 2 to 10\n",
    "s = np.random.randint(2, 11) \n",
    "m_1 = np.random.uniform(low=1.0, high=101.0, size=(s,s))\n",
    "mean_value = np.mean(m_1)\n",
    "print(mean_value)\n",
    "\n",
    "# fill matrix with nans randomly using mask\n",
    "nans_number = np.random.randint(1, s*s)\n",
    "mask = np.zeros(s*s, dtype=bool)\n",
    "mask[:nans_number] = True\n",
    "np.random.shuffle(mask)\n",
    "mask = mask.reshape(s, s)\n",
    "m_1[mask] = np.nan\n",
    "\n",
    "if np.isnan(m_1).all():\n",
    "    # fill nans with zeros if all elemetns are nans\n",
    "    m_1 = np.nan_to_num(m_1, nan=0)\n",
    "else:\n",
    "    # fill nans with matrix mean value\n",
    "    m_1 = np.nan_to_num(m_1, nan=mean_value)"
   ]
  },
  {
   "cell_type": "code",
   "execution_count": 796,
   "metadata": {},
   "outputs": [
    {
     "data": {
      "text/plain": [
       "array([[-0.08421519,  0.12632279,  0.29475317, -0.16843038],\n",
       "       [-0.08421519,  0.29475317,  0.0421076 , -0.42107596],\n",
       "       [ 0.0421076 ,  0.37896836,  0.25264558,  0.25264558],\n",
       "       [ 0.33686077, -0.29475317, -0.16843038,  0.29475317]])"
      ]
     },
     "execution_count": 796,
     "metadata": {},
     "output_type": "execute_result"
    }
   ],
   "source": [
    "# 6\n",
    "# create random matrix of size from 2 to 6\n",
    "s = np.random.randint(2, 6)\n",
    "matrix_rand = np.random.randint(low=-10, high=11, size=(s, s))\n",
    "# normalize matrix\n",
    "norm = np.linalg.norm(matrix_rand)\n",
    "normal_array = matrix_rand/norm\n",
    "normal_array"
   ]
  },
  {
   "cell_type": "code",
   "execution_count": 431,
   "metadata": {},
   "outputs": [],
   "source": [
    "# 7\n",
    "# load matrix from file\n",
    "m = np.loadtxt(\"matrix.txt\")\n",
    "\n",
    "# modify matrix\n",
    "m = m / 2\n",
    "\n",
    "# write matrix to file\n",
    "np.savetxt('martix_out.txt', m, delimiter = ' ')"
   ]
  },
  {
   "cell_type": "code",
   "execution_count": 569,
   "metadata": {},
   "outputs": [
    {
     "data": {
      "text/plain": [
       "50"
      ]
     },
     "execution_count": 569,
     "metadata": {},
     "output_type": "execute_result"
    }
   ],
   "source": [
    "# 8\n",
    "val = 50\n",
    "s = np.random.randint(10, 101)\n",
    "matrix_rand = np.random.randint(s, size=(s, s))\n",
    "# get matrix element closest to val\n",
    "closest_to_val = matrix_rand.flat[np.abs(matrix_rand - val).argmin()]\n"
   ]
  },
  {
   "cell_type": "code",
   "execution_count": 809,
   "metadata": {},
   "outputs": [
    {
     "data": {
      "text/plain": [
       "array([[1, 1, 1, 1, 1, 1, 1],\n",
       "       [1, 0, 0, 0, 0, 0, 1],\n",
       "       [1, 0, 0, 0, 0, 0, 1],\n",
       "       [1, 0, 0, 0, 0, 0, 1],\n",
       "       [1, 1, 1, 1, 1, 1, 1]])"
      ]
     },
     "execution_count": 809,
     "metadata": {},
     "output_type": "execute_result"
    }
   ],
   "source": [
    "# 9 \n",
    "m = np.random.randint(1, 20)\n",
    "n = np.random.randint(1, 20)\n",
    "\n",
    "# fill matrix with zeros\n",
    "matrix = np.full((m, n), 0, dtype=int)\n",
    "\n",
    "# change border values to 1\n",
    "matrix[:,[0,-1]] = matrix[[0,-1]] = 1"
   ]
  },
  {
   "cell_type": "code",
   "execution_count": 811,
   "metadata": {},
   "outputs": [
    {
     "name": "stdout",
     "output_type": "stream",
     "text": [
      "[[  3  -9  10  -5   2   6]\n",
      " [  5  -7  -8   9   8  -6]\n",
      " [ -4   3 -10   0   3   1]\n",
      " [  9  -1   4  -1   6 -10]\n",
      " [ -8   2  10   0  -3   2]\n",
      " [  0   5   2   4   7   2]]\n",
      "Column to be sorted by0\n",
      "[[  9  -1   4  -1   6 -10]\n",
      " [  5  -7  -8   9   8  -6]\n",
      " [  3  -9  10  -5   2   6]\n",
      " [  0   5   2   4   7   2]\n",
      " [ -4   3 -10   0   3   1]\n",
      " [ -8   2  10   0  -3   2]]\n"
     ]
    }
   ],
   "source": [
    "# 10\n",
    "s = np.random.randint(2, 11)\n",
    "matrix_rand = np.random.randint(low=-10, high=11, size=(s, s))\n",
    "print(matrix_rand)\n",
    "# get column number from input\n",
    "col_to_sort = int(input('Column to be sorted by'))\n",
    "# sort matrix by given column in decreasing order\n",
    "matrix_rand = matrix_rand[matrix_rand[:,col_to_sort].argsort()[::-1]]\n",
    "print(matrix_rand)"
   ]
  },
  {
   "cell_type": "code",
   "execution_count": 666,
   "metadata": {},
   "outputs": [],
   "source": [
    "# 11\n",
    "board_size = (8, 8)\n",
    "# fill board with zeros\n",
    "matrix = np.zeros(board_size,dtype=int)\n",
    "# change every second value to 1\n",
    "matrix[1::2,::2] = 1\n",
    "matrix[::2,1::2] = 1\n"
   ]
  }
 ],
 "metadata": {
  "kernelspec": {
   "display_name": "Python 3",
   "language": "python",
   "name": "python3"
  },
  "language_info": {
   "codemirror_mode": {
    "name": "ipython",
    "version": 3
   },
   "file_extension": ".py",
   "mimetype": "text/x-python",
   "name": "python",
   "nbconvert_exporter": "python",
   "pygments_lexer": "ipython3",
   "version": "3.6.9"
  }
 },
 "nbformat": 4,
 "nbformat_minor": 4
}
