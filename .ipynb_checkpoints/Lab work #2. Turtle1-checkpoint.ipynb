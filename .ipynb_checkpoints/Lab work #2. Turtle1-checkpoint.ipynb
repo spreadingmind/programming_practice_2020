{
 "cells": [
  {
   "cell_type": "code",
   "execution_count": 1,
   "metadata": {},
   "outputs": [],
   "source": [
    "import tkinter\n",
    "import turtle\n",
    "import math\n",
    "\n",
    "def square(length):\n",
    "    for i in range(4):       \n",
    "        turtle.forward(length)\n",
    "        turtle.left(90)\n",
    "\n",
    "def left_circle(r, n):\n",
    "    for i in range(n):\n",
    "        turtle.forward(r)\n",
    "        turtle.left(r)\n",
    "        turtle.forward(r)\n",
    "        turtle.left(r)\n",
    "        turtle.left(r)\n",
    "    \n",
    "def semisquare(length):\n",
    "    for i in range(2):       \n",
    "        turtle.forward(length)\n",
    "        turtle.left(90) \n",
    "\n",
    "def polygon(n, length):\n",
    "    for i in range(n):\n",
    "        turtle.right(360 / n) \n",
    "        turtle.forward(length) \n"
   ]
  },
  {
   "cell_type": "code",
   "execution_count": 2,
   "metadata": {},
   "outputs": [],
   "source": [
    "# 2 S\n",
    "turtle.shape('turtle')\n",
    "turtle.forward(50)\n",
    "turtle.left(90)\n",
    "turtle.forward(50)\n",
    "turtle.left(90)\n",
    "turtle.forward(50)\n",
    "turtle.right(90)\n",
    "turtle.forward(50)\n",
    "turtle.right(90)\n",
    "turtle.forward(50)\n",
    "turtle.done()"
   ]
  },
  {
   "cell_type": "code",
   "execution_count": 4,
   "metadata": {},
   "outputs": [],
   "source": [
    "# 3 square\n",
    "turtle.shape('turtle')\n",
    "a = 50\n",
    "square(a)\n",
    "turtle.done()"
   ]
  },
  {
   "cell_type": "code",
   "execution_count": null,
   "metadata": {},
   "outputs": [],
   "source": [
    "# 4 circle\n",
    "radius = 10\n",
    "resolution = 100\n",
    "turtle.shape('turtle')\n",
    "left_circle(radius, resolution)\n",
    "turtle.done()"
   ]
  },
  {
   "cell_type": "code",
   "execution_count": null,
   "metadata": {},
   "outputs": [],
   "source": [
    "# 5 concentric squares\n",
    "turtle.shape('turtle')\n",
    "n = 10\n",
    "initial_length = 20\n",
    "outset = 10\n",
    "for i in range(1, n):\n",
    "    square(initial_length)\n",
    "    initial_length += 20\n",
    "    turtle.penup()\n",
    "    turtle.goto(turtle.xcor()-outset, turtle.ycor()-outset)\n",
    "    turtle.pendown()\n",
    "turtle.done()"
   ]
  },
  {
   "cell_type": "code",
   "execution_count": null,
   "metadata": {},
   "outputs": [],
   "source": [
    "# 6 spider\n",
    "\n",
    "turtle.shape('turtle')\n",
    "\n",
    "n_paws = int(input())\n",
    "length = 100\n",
    "\n",
    "for i in range(n_paws):\n",
    "    turtle.forward(length)\n",
    "    turtle.stamp()\n",
    "    turtle.back(length)\n",
    "    turtle.left(360/n_paws)\n",
    "turtle.done()"
   ]
  },
  {
   "cell_type": "code",
   "execution_count": null,
   "metadata": {},
   "outputs": [],
   "source": [
    "# rose\n",
    "\n",
    "for i in range(200):\n",
    "    turtle.forward(1+i)\n",
    "    turtle.right(50)\n",
    "    turtle.forward(1+i)\n",
    "    turtle.right(50)\n",
    "\n",
    "turtle.done()    "
   ]
  },
  {
   "cell_type": "code",
   "execution_count": null,
   "metadata": {},
   "outputs": [],
   "source": [
    "# 7 archimedian spiral\n",
    "turtle.shape('turtle')\n",
    "turtle.down()\n",
    "for i in range(300):\n",
    "    t = i / 20 * math.pi\n",
    "    x = (1 + 2 * t) * math.cos(t)\n",
    "    y = (1 + 2 * t) * math.sin(t)\n",
    "    turtle.goto(x, y)\n",
    "turtle.up()\n",
    "turtle.done()"
   ]
  },
  {
   "cell_type": "code",
   "execution_count": null,
   "metadata": {},
   "outputs": [],
   "source": [
    "# 8 square spiral\n",
    "turtle.shape('turtle')\n",
    "n = 20\n",
    "initial_length = 20\n",
    "\n",
    "for i in range(1, n):\n",
    "    semisquare(initial_length)\n",
    "    initial_length += 20\n",
    "turtle.done()"
   ]
  },
  {
   "cell_type": "code",
   "execution_count": null,
   "metadata": {},
   "outputs": [],
   "source": [
    "#9 10 n-side polygons\n",
    "\n",
    "turtle.shape('turtle')\n",
    "initial_length = 20\n",
    "outset_x = 15\n",
    "outset_y = 15\n",
    "\n",
    "\n",
    "for i in range(3, 13):\n",
    "    polygon(i, initial_length)\n",
    "    initial_length += 30\n",
    "    turtle.penup()\n",
    "    turtle.goto(turtle.xcor()+outset_x, turtle.ycor()+outset_y)\n",
    "    turtle.pendown()\n",
    "turtle.done()\n",
    "\n",
    "\n"
   ]
  },
  {
   "cell_type": "code",
   "execution_count": null,
   "metadata": {},
   "outputs": [],
   "source": [
    "# 10 flower from circles\n",
    "turtle.shape('turtle')\n",
    "for angle in range(0, 360, 60): \n",
    "    turtle.seth(angle)  \n",
    "    turtle.circle(80)  \n",
    "\n",
    "turtle.done()\n",
    "\n"
   ]
  },
  {
   "cell_type": "code",
   "execution_count": null,
   "metadata": {},
   "outputs": [],
   "source": [
    "# 11 butterfly from circles\n",
    "\n",
    "turtle.shape('turtle')\n",
    "turtle.speed(10)\n",
    "radius = 50\n",
    "counter = 0\n",
    "\n",
    "for angle in range(90, 3600, 180): \n",
    "    turtle.seth(angle)  \n",
    "    turtle.circle(radius)\n",
    "    counter += 1\n",
    "    if counter % 2 == 0:\n",
    "        radius += 10\n",
    "\n",
    "    \n",
    "turtle.done()"
   ]
  },
  {
   "cell_type": "code",
   "execution_count": null,
   "metadata": {},
   "outputs": [],
   "source": [
    "# 12 spring\n",
    "\n",
    "turtle.shape('turtle')\n",
    "turtle.speed(10)\n",
    "radius = 50\n",
    "counter = 0\n",
    "outset_x=5\n",
    "for angle in range(90, 3600, 180): \n",
    "    turtle.seth(-90)  \n",
    "    turtle.circle(radius, -180)\n",
    "    turtle.goto(turtle.xcor()-outset_x, turtle.ycor())\n",
    "\n",
    "    \n",
    "turtle.done()"
   ]
  },
  {
   "cell_type": "code",
   "execution_count": null,
   "metadata": {},
   "outputs": [],
   "source": []
  }
 ],
 "metadata": {
  "kernelspec": {
   "display_name": "Python 3",
   "language": "python",
   "name": "python3"
  },
  "language_info": {
   "codemirror_mode": {
    "name": "ipython",
    "version": 3
   },
   "file_extension": ".py",
   "mimetype": "text/x-python",
   "name": "python",
   "nbconvert_exporter": "python",
   "pygments_lexer": "ipython3",
   "version": "3.6.9"
  }
 },
 "nbformat": 4,
 "nbformat_minor": 4
}
