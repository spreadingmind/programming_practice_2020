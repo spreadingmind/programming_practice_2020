{
 "cells": [
  {
   "cell_type": "code",
   "execution_count": 5,
   "metadata": {},
   "outputs": [],
   "source": [
    "%load_ext pycodestyle_magic\n",
    "%pycodestyle_on"
   ]
  },
  {
   "cell_type": "code",
   "execution_count": 32,
   "metadata": {},
   "outputs": [
    {
     "name": "stdout",
     "output_type": "stream",
     "text": [
      "3\n",
      "4\n",
      "81.0\n"
     ]
    }
   ],
   "source": [
    "# ex 1\n",
    "# Дано действительное положительное число a и целоe число n.\n",
    "# Вычислите a в степени n\n",
    "\n",
    "\n",
    "a = float(input())\n",
    "n = int(input())\n",
    "\n",
    "\n",
    "def power(a, n):\n",
    "    res = 1\n",
    "    for i in range(abs(n)):\n",
    "        res *= a\n",
    "    if n >= 0:\n",
    "        return res\n",
    "    else:\n",
    "        return 1 / res\n",
    "\n",
    "\n",
    "print(power(a, n))"
   ]
  },
  {
   "cell_type": "code",
   "execution_count": 24,
   "metadata": {},
   "outputs": [
    {
     "name": "stdout",
     "output_type": "stream",
     "text": [
      "12 14 16 8\n",
      "[2, 8]\n"
     ]
    }
   ],
   "source": [
    "# ex 2\n",
    "# Напишите функцию вычисляющие НОД для множества пар чисел\n",
    "\n",
    "\n",
    "pairs = [int(j) for j in input().split()]\n",
    "pairs_splitted = [pairs[i:i+2] for i in range(0, len(pairs), 2)]\n",
    "res = []\n",
    "\n",
    "for p in pairs_splitted:\n",
    "    a = p[0]\n",
    "    b = p[1]\n",
    "    while a != 0 and b != 0:\n",
    "        if a > b:\n",
    "            a %= b\n",
    "        else:\n",
    "            b %= a\n",
    "    res.append(a + b)\n",
    "\n",
    "print(res)"
   ]
  },
  {
   "cell_type": "code",
   "execution_count": 31,
   "metadata": {},
   "outputs": [
    {
     "name": "stdout",
     "output_type": "stream",
     "text": [
      "Введите фигуру: К - круг, Т - триугольник, П - прямоугольник К\n",
      "Введите радиус 12\n",
      "452.3893421169302\n"
     ]
    }
   ],
   "source": [
    "# ex 3\n",
    "# Напишите функцию, которая в зависимости от выбора пользователя\n",
    "# вычисляет площадь круга, прямоугольника или треугольника.\n",
    "\n",
    "from math import pi\n",
    "\n",
    "\n",
    "def circle_area(r):\n",
    "    return pi * r * r\n",
    "\n",
    "\n",
    "def rectange_area(a, b):\n",
    "    return a * b\n",
    "\n",
    "\n",
    "def triangle_area(a, h):\n",
    "    return 0.5 * a * h\n",
    "\n",
    "\n",
    "figure = input('Введите фигуру: К - круг, Т - триугольник, П - прямоугольник ')\n",
    "\n",
    "if figure == 'К':\n",
    "    r = int(input('Введите радиус '))\n",
    "    print(circle_area(r))\n",
    "if figure == 'Т':\n",
    "    a = int(input('Введите сторону треугольника '))\n",
    "    h = int(input('Введите высоту треугольника '))\n",
    "    print(triangle_area(a, h))\n",
    "if figure == 'П':\n",
    "    a = int(input('Введите первую сторону прямоугольника '))\n",
    "    b = int(input('Введите вторую сторону прямоугольника '))\n",
    "    print(rectange_area(a, b))"
   ]
  },
  {
   "cell_type": "code",
   "execution_count": 30,
   "metadata": {},
   "outputs": [
    {
     "name": "stdout",
     "output_type": "stream",
     "text": [
      "Введите размер квадратной матрицы 2\n",
      "3\n",
      "4\n",
      "4\n",
      "2\n",
      "Введите вид суммы матрицы. Главная - Г, Побочная - П Г\n"
     ]
    },
    {
     "name": "stderr",
     "output_type": "stream",
     "text": [
      "22:1: W293 blank line contains whitespace\n"
     ]
    },
    {
     "name": "stdout",
     "output_type": "stream",
     "text": [
      "5\n"
     ]
    }
   ],
   "source": [
    "# ex 4\n",
    "# Напишите функцию, которая на вход принимает квадратную матрицу\n",
    "# Вычисляет сумму элементов главной или побочной диагонали\n",
    "\n",
    "n = int(input('Введите размер квадратной матрицы '))\n",
    "matrix = [[int(input()) for i in range(n)] for j in range(n)]\n",
    "\n",
    "\n",
    "def diagonal_sum(sum_type):\n",
    "    sum_main, sum_collateral = 0, 0\n",
    "    for i in range(n):\n",
    "        for j in range(n):\n",
    "            if i == j:\n",
    "                sum_main += matrix[i][j]\n",
    "            if j == n-1-i:\n",
    "                sum_collateral += matrix[i][j]\n",
    "    if sum_type == 'Г':\n",
    "        return sum_main\n",
    "    if sum_type == 'П':\n",
    "        return sum_collateral\n",
    "\n",
    "\n",
    "sum_type = input(\"Введите вид суммы матрицы. Главная - Г, Побочная - П \")\n",
    "print(diagonal_sum(sum_type))"
   ]
  },
  {
   "cell_type": "code",
   "execution_count": 29,
   "metadata": {},
   "outputs": [
    {
     "data": {
      "image/png": "[encoded data removed]",
      "text/plain": [
       "<Figure size 432x288 with 1 Axes>"
      ]
     },
     "metadata": {
      "needs_background": "light"
     },
     "output_type": "display_data"
    }
   ],
   "source": [
    "# ex 5\n",
    "\n",
    "\n",
    "import matplotlib.pyplot as plt\n",
    "import numpy as np\n",
    "\n",
    "\n",
    "def f(x):\n",
    "    if -5 <= x <= 5:\n",
    "        return x * x\n",
    "    elif x < -5:\n",
    "        return 2 * abs(x) - 1\n",
    "    elif x > 5:\n",
    "        return 2 * x\n",
    "\n",
    "\n",
    "x = np.linspace(-10, 10)\n",
    "y = np.array([f(x[i]) for i in range(len(x))])\n",
    "\n",
    "plt.plot(x, y)\n",
    "plt.grid(True)\n",
    "plt.show()"
   ]
  }
 ],
 "metadata": {
  "kernelspec": {
   "display_name": "Python 3",
   "language": "python",
   "name": "python3"
  },
  "language_info": {
   "codemirror_mode": {
    "name": "ipython",
    "version": 3
   },
   "file_extension": ".py",
   "mimetype": "text/x-python",
   "name": "python",
   "nbconvert_exporter": "python",
   "pygments_lexer": "ipython3",
   "version": "3.6.9"
  }
 },
 "nbformat": 4,
 "nbformat_minor": 4
}
